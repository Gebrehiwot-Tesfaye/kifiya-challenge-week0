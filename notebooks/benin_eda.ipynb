{
 "cells": [
  {
   "cell_type": "code",
   "execution_count": 1,
   "metadata": {},
   "outputs": [
    {
     "data": {
      "text/plain": [
       "{'cells': [{'cell_type': 'markdown',\n",
       "   'metadata': {},\n",
       "   'source': ['# Benin Solar Data Analysis\\n',\n",
       "    '\\n',\n",
       "    '## Data Loading and Cleaning']},\n",
       "  {'cell_type': 'code',\n",
       "   'execution_count': 0,\n",
       "   'metadata': {},\n",
       "   'source': ['import pandas as pd\\n',\n",
       "    'import numpy as np\\n',\n",
       "    'import matplotlib.pyplot as plt\\n',\n",
       "    'import seaborn as sns\\n',\n",
       "    'from scipy import stats\\n',\n",
       "    '\\n',\n",
       "    '# Load data\\n',\n",
       "    \"df = pd.read_csv('../data/benin-malanville.csv')\\n\",\n",
       "    '\\n',\n",
       "    '# Basic cleaning and analysis steps here\\n',\n",
       "    '# Save cleaned data\\n',\n",
       "    \"df.to_csv('../data/benin_clean.csv', index=False)\"]}]}"
      ]
     },
     "execution_count": 1,
     "metadata": {},
     "output_type": "execute_result"
    }
   ],
   "source": [
    "{\n",
    " \"cells\": [\n",
    "  {\n",
    "   \"cell_type\": \"markdown\",\n",
    "   \"metadata\": {},\n",
    "   \"source\": [\n",
    "    \"# Benin Solar Data Analysis\\n\",\n",
    "    \"\\n\",\n",
    "    \"## Data Loading and Cleaning\"\n",
    "   ]\n",
    "  },\n",
    "  {\n",
    "   \"cell_type\": \"code\",\n",
    "   \"execution_count\": 0,\n",
    "   \"metadata\": {},\n",
    "   \"source\": [\n",
    "    \"import pandas as pd\\n\",\n",
    "    \"import numpy as np\\n\",\n",
    "    \"import matplotlib.pyplot as plt\\n\",\n",
    "    \"import seaborn as sns\\n\",\n",
    "    \"from scipy import stats\\n\",\n",
    "    \"\\n\",\n",
    "    \"# Load data\\n\",\n",
    "    \"df = pd.read_csv('../data/benin-malanville.csv')\\n\",\n",
    "    \"\\n\",\n",
    "    \"# Basic cleaning and analysis steps here\\n\",\n",
    "    \"# Save cleaned data\\n\",\n",
    "    \"df.to_csv('../data/benin_clean.csv', index=False)\"\n",
    "   ]\n",
    "  }\n",
    " ]\n",
    "}"
   ]
  },
  {
   "cell_type": "markdown",
   "metadata": {},
   "source": []
  }
 ],
 "metadata": {
  "kernelspec": {
   "display_name": "Python 3",
   "language": "python",
   "name": "python3"
  },
  "language_info": {
   "codemirror_mode": {
    "name": "ipython",
    "version": 3
   },
   "file_extension": ".py",
   "mimetype": "text/x-python",
   "name": "python",
   "nbconvert_exporter": "python",
   "pygments_lexer": "ipython3",
   "version": "3.10.11"
  }
 },
 "nbformat": 4,
 "nbformat_minor": 2
}
